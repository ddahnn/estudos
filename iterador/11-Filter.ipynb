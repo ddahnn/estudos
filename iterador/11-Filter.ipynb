{
 "cells": [
  {
   "cell_type": "markdown",
   "id": "c9694818",
   "metadata": {},
   "source": [
    "        FILTER\n",
    "É usada para filtrar elementos de um iterável com base em uma função que pode retornar True ou False.\n",
    "O objetivo é permitir apenas os elementos que satisfaçam uma condição."
   ]
  },
  {
   "cell_type": "code",
   "execution_count": 1,
   "id": "4c4a83f3",
   "metadata": {},
   "outputs": [],
   "source": [
    "def e_par(x):\n",
    "    return x% 2 == 0\n"
   ]
  },
  {
   "cell_type": "code",
   "execution_count": 2,
   "id": "3f726350",
   "metadata": {},
   "outputs": [],
   "source": [
    "numero =[1,2,3,4,5,6,7,8,9,99,98]"
   ]
  },
  {
   "cell_type": "code",
   "execution_count": 3,
   "id": "5c5ee842",
   "metadata": {},
   "outputs": [],
   "source": [
    "numeros_Pares = filter(e_par, numero)"
   ]
  },
  {
   "cell_type": "code",
   "execution_count": 4,
   "id": "26972b1c",
   "metadata": {},
   "outputs": [],
   "source": [
    "produtos = [\n",
    "    {\"nome\": \"produtoA\", \"preco\": 10.0, \"Em_estoque\": True},\n",
    "    {\"nome\": \"produtoB\", \"preco\": 20.0, \"Em_estoque\": False},\n",
    "    {\"nome\": \"produtoC\", \"preco\": 15.5, \"Em_estoque\": True},\n",
    "    {\"nome\": \"produtoD\", \"preco\": 8.0, \"Em_estoque\": False},\n",
    "    {\"nome\": \"produtoE\", \"preco\": 12.3, \"Em_estoque\": True},\n",
    "    {\"nome\": \"produtoF\", \"preco\": 30.0, \"Em_estoque\": False}\n",
    "]"
   ]
  },
  {
   "cell_type": "code",
   "execution_count": 5,
   "id": "27946737",
   "metadata": {},
   "outputs": [],
   "source": [
    "def produto_em_estoque(produto):\n",
    "    return produto[\"Em_estoque\"]"
   ]
  },
  {
   "cell_type": "code",
   "execution_count": 6,
   "id": "d655979f",
   "metadata": {},
   "outputs": [
    {
     "data": {
      "text/plain": [
       "[{'nome': 'produtoA', 'preco': 10.0, 'Em_estoque': True},\n",
       " {'nome': 'produtoC', 'preco': 15.5, 'Em_estoque': True},\n",
       " {'nome': 'produtoE', 'preco': 12.3, 'Em_estoque': True}]"
      ]
     },
     "execution_count": 6,
     "metadata": {},
     "output_type": "execute_result"
    }
   ],
   "source": [
    "prod_dispo = filter(produto_em_estoque, produtos)\n",
    "list(prod_dispo)"
   ]
  },
  {
   "cell_type": "code",
   "execution_count": 10,
   "id": "60188b73",
   "metadata": {},
   "outputs": [],
   "source": [
    "transacoes = [200.0, -50.0, 75.0, -30,99, 100.0, -10.0 ]"
   ]
  },
  {
   "cell_type": "code",
   "execution_count": 11,
   "id": "8fb5e8a8",
   "metadata": {},
   "outputs": [],
   "source": [
    "def eh_despesa(valor):\n",
    "    return valor <0"
   ]
  },
  {
   "cell_type": "code",
   "execution_count": 12,
   "id": "aa0cab3a",
   "metadata": {},
   "outputs": [
    {
     "data": {
      "text/plain": [
       "[-50.0, -30, -10.0]"
      ]
     },
     "execution_count": 12,
     "metadata": {},
     "output_type": "execute_result"
    }
   ],
   "source": [
    "despesas = filter(eh_despesa, transacoes)\n",
    "list(despesas)"
   ]
  }
 ],
 "metadata": {
  "kernelspec": {
   "display_name": "Python 3",
   "language": "python",
   "name": "python3"
  },
  "language_info": {
   "codemirror_mode": {
    "name": "ipython",
    "version": 3
   },
   "file_extension": ".py",
   "mimetype": "text/x-python",
   "name": "python",
   "nbconvert_exporter": "python",
   "pygments_lexer": "ipython3",
   "version": "3.12.4"
  }
 },
 "nbformat": 4,
 "nbformat_minor": 5
}
