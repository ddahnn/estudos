{
 "cells": [
  {
   "cell_type": "markdown",
   "id": "2b77c0b8",
   "metadata": {},
   "source": [
    "- Map\n",
    "funcção que aplica um função a todos os itens de um iteravel (uma lista, por exemplo.)\n",
    "É uma maneira eficiebnte e consisa de transformar dados"
   ]
  },
  {
   "cell_type": "code",
   "execution_count": 1,
   "id": "a06f01b4",
   "metadata": {},
   "outputs": [],
   "source": [
    "def quadrado(x):\n",
    "    return  x **2"
   ]
  },
  {
   "cell_type": "code",
   "execution_count": 5,
   "id": "4772a21d",
   "metadata": {},
   "outputs": [],
   "source": [
    "numero  = [1, 2, 3, 4, 5 ,6, 7, 8]"
   ]
  },
  {
   "cell_type": "code",
   "execution_count": 6,
   "id": "00b2b817",
   "metadata": {},
   "outputs": [
    {
     "name": "stdout",
     "output_type": "stream",
     "text": [
      "1\n",
      "4\n",
      "9\n",
      "16\n",
      "25\n",
      "36\n",
      "49\n",
      "64\n"
     ]
    }
   ],
   "source": [
    "for n in numero:\n",
    "    print(quadrado(n))"
   ]
  },
  {
   "cell_type": "code",
   "execution_count": 7,
   "id": "d1221c75",
   "metadata": {},
   "outputs": [
    {
     "data": {
      "text/plain": [
       "[1, 4, 9, 16, 25, 36, 49, 64]"
      ]
     },
     "execution_count": 7,
     "metadata": {},
     "output_type": "execute_result"
    }
   ],
   "source": [
    "resultados = map(quadrado, numero)\n",
    "list(resultados)"
   ]
  },
  {
   "cell_type": "code",
   "execution_count": 8,
   "id": "25a0d78b",
   "metadata": {},
   "outputs": [],
   "source": [
    "def celcius_para_fahrenheit(c):\n",
    "    return ( c * 9 / 5 ) + 32"
   ]
  },
  {
   "cell_type": "code",
   "execution_count": 9,
   "id": "2d457c7f",
   "metadata": {},
   "outputs": [],
   "source": [
    "temperaturas_celcius = [0,20,18,37,100]\n"
   ]
  },
  {
   "cell_type": "code",
   "execution_count": 10,
   "id": "d43a5399",
   "metadata": {},
   "outputs": [
    {
     "data": {
      "text/plain": [
       "[32.0, 68.0, 64.4, 98.6, 212.0]"
      ]
     },
     "execution_count": 10,
     "metadata": {},
     "output_type": "execute_result"
    }
   ],
   "source": [
    "fahrenhreit = map(celcius_para_fahrenheit, temperaturas_celcius)\n",
    "list(fahrenhreit)"
   ]
  },
  {
   "cell_type": "code",
   "execution_count": 12,
   "id": "ed78a334",
   "metadata": {},
   "outputs": [],
   "source": [
    "def padronizar_nome(nome):\n",
    "    return  nome.strip().lower()"
   ]
  },
  {
   "cell_type": "code",
   "execution_count": 13,
   "id": "3f0df739",
   "metadata": {},
   "outputs": [],
   "source": [
    "nomes = [' Alice ', 'BOB', 'charlie', '  dAvE', 'Eve ', ' frank', 'GRACE ', 'Heidi']"
   ]
  },
  {
   "cell_type": "code",
   "execution_count": 14,
   "id": "e128fec9",
   "metadata": {},
   "outputs": [
    {
     "data": {
      "text/plain": [
       "['alice', 'bob', 'charlie', 'dave', 'eve', 'frank', 'grace', 'heidi']"
      ]
     },
     "execution_count": 14,
     "metadata": {},
     "output_type": "execute_result"
    }
   ],
   "source": [
    "nomes_Padrao=map(padronizar_nome, nomes)\n",
    "list(nomes_Padrao)"
   ]
  }
 ],
 "metadata": {
  "kernelspec": {
   "display_name": "Python 3",
   "language": "python",
   "name": "python3"
  },
  "language_info": {
   "codemirror_mode": {
    "name": "ipython",
    "version": 3
   },
   "file_extension": ".py",
   "mimetype": "text/x-python",
   "name": "python",
   "nbconvert_exporter": "python",
   "pygments_lexer": "ipython3",
   "version": "3.12.4"
  }
 },
 "nbformat": 4,
 "nbformat_minor": 5
}
