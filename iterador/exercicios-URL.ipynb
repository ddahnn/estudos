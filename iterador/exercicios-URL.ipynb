{
 "cells": [
  {
   "cell_type": "markdown",
   "id": "b1d98c84",
   "metadata": {},
   "source": [
    "função que recebe um texto e estrai todasas urls presentes  \"http://' ou \"https://\""
   ]
  },
  {
   "cell_type": "code",
   "execution_count": 1,
   "id": "b82eb5d0",
   "metadata": {},
   "outputs": [],
   "source": [
    "import re"
   ]
  },
  {
   "cell_type": "code",
   "execution_count": 2,
   "id": "df9fdccd",
   "metadata": {},
   "outputs": [],
   "source": [
    "def extrairUrls(site):\n",
    "    padraoUrl = r'http?://[a-zA-Z0-9.-]+\\.[a-zA-Z]{2,}'\n",
    "    urls = re.findall(padraoUrl, site)\n",
    "    return urls"
   ]
  },
  {
   "cell_type": "code",
   "execution_count": 3,
   "id": "a5b09ec5",
   "metadata": {},
   "outputs": [],
   "source": [
    "texto = \"\"\"\n",
    "Olá, este é um texto de exemplo para testar a extração de URLs.\n",
    "Você pode acessar nosso site em http://www.exemplo.com para mais informações.\n",
    "Também temos uma página segura em https://seguro.exemplo.com/login.\n",
    "Confira nosso blog em http://blog.exemplo.com.br para novidades.\n",
    "Nosso parceiro está em https://parceiro.org.\n",
    "Veja também http://site-antigo.net.\n",
    "Para suporte, acesse https://suporte.exemplo.com.\n",
    "Nossos termos estão em http://www.exemplo.com/termos.\n",
    "Acesse https://docs.exemplo.com para documentação.\n",
    "Obrigado por visitar http://agradecimento.com!\n",
    "\"\"\""
   ]
  },
  {
   "cell_type": "code",
   "execution_count": 4,
   "id": "7c841552",
   "metadata": {},
   "outputs": [
    {
     "name": "stdout",
     "output_type": "stream",
     "text": [
      "['http://www.exemplo.com', 'http://blog.exemplo.com.br', 'http://site-antigo.net', 'http://www.exemplo.com', 'http://agradecimento.com']\n"
     ]
    }
   ],
   "source": [
    "print(extrairUrls(texto))"
   ]
  }
 ],
 "metadata": {
  "kernelspec": {
   "display_name": "Python 3",
   "language": "python",
   "name": "python3"
  },
  "language_info": {
   "codemirror_mode": {
    "name": "ipython",
    "version": 3
   },
   "file_extension": ".py",
   "mimetype": "text/x-python",
   "name": "python",
   "nbconvert_exporter": "python",
   "pygments_lexer": "ipython3",
   "version": "3.12.4"
  }
 },
 "nbformat": 4,
 "nbformat_minor": 5
}
