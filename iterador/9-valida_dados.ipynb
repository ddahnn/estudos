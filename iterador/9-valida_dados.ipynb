{
 "cells": [
  {
   "cell_type": "code",
   "execution_count": 1,
   "id": "c34ac756",
   "metadata": {},
   "outputs": [],
   "source": [
    "import re"
   ]
  },
  {
   "cell_type": "code",
   "execution_count": 13,
   "id": "fbd21d07",
   "metadata": {},
   "outputs": [],
   "source": [
    "def validar_contatos(contatos):\n",
    "    padrao_email = r\"Email: \\s*([a-zA-Z0-9._%+-]+@[a-zA-Z0-9._%+-]+\\.[a-zA-Z]{2,})\"\n",
    "    padrao_nome = r'Nome:\\s*([A-Z][a-z]+(?:\\s[A-Z][a-z]+)?)'\n",
    "    padrao_telefone= r'Telefone:\\s*(\\(\\d{2}\\)\\s\\d{5}-\\d{4})'\n",
    "\n",
    "    for contato in contatos:\n",
    "        nome_match = re.search(padrao_nome, contato)\n",
    "        email_match = re.search(padrao_email, contato)\n",
    "        telefone_match = re.search(padrao_telefone, contato)\n",
    "\n",
    "        if nome_match and email_match and telefone_match:\n",
    "            nome = nome_match.group(1)\n",
    "            email = email_match.group(1)\n",
    "            telefone = telefone_match.group(1)\n",
    "            print(f'Contato válido: Nome: {nome}, Email: {email}, Telefone: {telefone}')\n",
    "        else:\n",
    "            print(f\"Contato invalido {contato}\")"
   ]
  },
  {
   "cell_type": "code",
   "execution_count": 16,
   "id": "305264c0",
   "metadata": {},
   "outputs": [],
   "source": [
    "contato_exemplo = [\n",
    "    \"Nome: Alice Silva, Email: alise.silva@example.com, Telefone: (51) 99999-9999\",\n",
    "    \"Nome: !#$, Email: bruno.souza@gmail.com, Telefone: (21) 98888-8888\",\n",
    "    \"Nome: Carla Dias, Email: carla.dias@yahoocom, Telefone: (11) 97777-7777\",\n",
    "    \"Nome: Daniel Lima, Email: daniel.limau@tlook.com, Telefone: (31) 96666-6666\",\n",
    "    \"Nome: Elisa Costa, Email: elisa.costa@empresa.com, Telefone:  95555-5555\"\n",
    "]"
   ]
  },
  {
   "cell_type": "code",
   "execution_count": 17,
   "id": "89f6c654",
   "metadata": {},
   "outputs": [
    {
     "name": "stdout",
     "output_type": "stream",
     "text": [
      "Contato válido: Nome: Alice Silva, Email: alise.silva@example.com, Telefone: (51) 99999-9999\n",
      "Contato invalido Nome: !#$, Email: bruno.souza@gmail.com, Telefone: (21) 98888-8888\n",
      "Contato invalido Nome: Carla Dias, Email: carla.dias@yahoocom, Telefone: (11) 97777-7777\n",
      "Contato válido: Nome: Daniel Lima, Email: daniel.limau@tlook.com, Telefone: (31) 96666-6666\n",
      "Contato invalido Nome: Elisa Costa, Email: elisa.costa@empresa.com, Telefone:  95555-5555\n"
     ]
    }
   ],
   "source": [
    "validar_contatos(contato_exemplo)"
   ]
  }
 ],
 "metadata": {
  "kernelspec": {
   "display_name": "Python 3",
   "language": "python",
   "name": "python3"
  },
  "language_info": {
   "codemirror_mode": {
    "name": "ipython",
    "version": 3
   },
   "file_extension": ".py",
   "mimetype": "text/x-python",
   "name": "python",
   "nbconvert_exporter": "python",
   "pygments_lexer": "ipython3",
   "version": "3.12.4"
  }
 },
 "nbformat": 4,
 "nbformat_minor": 5
}
