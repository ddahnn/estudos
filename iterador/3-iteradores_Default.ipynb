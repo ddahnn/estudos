{
 "cells": [
  {
   "cell_type": "code",
   "execution_count": null,
   "id": "7c7f5b5e",
   "metadata": {},
   "outputs": [],
   "source": [
    "# ieradores nativos do python\n",
    "# https://docs.python.org/3/library/stdtypes.html#iterator-types\n",
    "\n",
    "import itertools"
   ]
  },
  {
   "cell_type": "code",
   "execution_count": null,
   "id": "668063bc",
   "metadata": {},
   "outputs": [
    {
     "name": "stdout",
     "output_type": "stream",
     "text": [
      "0, 1, 2, 3, 4, 5, 6, 7, 8, 9, "
     ]
    }
   ],
   "source": [
    "#  Exemplo 1  - Range ()\n",
    "for i in range(10):\n",
    "    print(i, end =\", \")"
   ]
  },
  {
   "cell_type": "code",
   "execution_count": 23,
   "id": "0d3040d5",
   "metadata": {},
   "outputs": [
    {
     "name": "stdout",
     "output_type": "stream",
     "text": [
      "\n",
      "Frutas:\n",
      "Maça, Banana, Laranja, Uva, Pesego, Melancia, "
     ]
    }
   ],
   "source": [
    "# Exemplo 2 - iterar Lista\n",
    "frutas = [\"Maça\", \"Banana\", \"Laranja\", \"Uva\", \"Pesego\", \"Melancia\" ]\n",
    "print(\"\\nFrutas:\")\n",
    "for fruta in frutas:\n",
    "    print(fruta, end=\", \")"
   ]
  },
  {
   "cell_type": "code",
   "execution_count": 24,
   "id": "b1f89e6d",
   "metadata": {},
   "outputs": [
    {
     "name": "stdout",
     "output_type": "stream",
     "text": [
      "\n",
      "\n",
      "Dicionário:\n",
      "nome: João, idade: 30, cidade: São Paulo, "
     ]
    }
   ],
   "source": [
    "# Exemplo 3 Iterar Dicionario\n",
    "dicionario = {\"nome\": \"João\", \"idade\": 30, \"cidade\": \"São Paulo\"}\n",
    "print(\"\\n\\nDicionário:\")\n",
    "for chave, valor in dicionario.items():\n",
    "    print(f\"{chave}: {valor}\", end=\", \")"
   ]
  },
  {
   "cell_type": "code",
   "execution_count": null,
   "id": "c0b9c388",
   "metadata": {},
   "outputs": [
    {
     "name": "stdout",
     "output_type": "stream",
     "text": [
      "\n",
      "0: Maça, \n",
      "1: Banana, \n",
      "2: Laranja, \n",
      "3: Uva, \n",
      "4: Pesego, \n",
      "5: Melancia, "
     ]
    }
   ],
   "source": [
    "# Exemplo  4 enumerate () \n",
    "for indice, fruta in enumerate(frutas):\n",
    "    print(f\"\\n{indice}: {fruta}\", end=\", \")"
   ]
  },
  {
   "cell_type": "code",
   "execution_count": 27,
   "id": "809c6a4a",
   "metadata": {},
   "outputs": [
    {
     "name": "stdout",
     "output_type": "stream",
     "text": [
      "\n",
      "Nome: João, Idade: 30, \n",
      "Nome: Maria, Idade: 25, \n",
      "Nome: José, Idade: 40, "
     ]
    }
   ],
   "source": [
    "#5 Exemplo - zip ()\n",
    "\n",
    "nome= [\"João\", \"Maria\", \"José\"]\n",
    "idade = [30, 25, 40]\n",
    "for nome, idade in zip(nome, idade):\n",
    "    print(f\"\\nNome: {nome}, Idade: {idade}\", end=\", \")"
   ]
  },
  {
   "cell_type": "code",
   "execution_count": null,
   "id": "5c956dda",
   "metadata": {},
   "outputs": [],
   "source": []
  },
  {
   "cell_type": "code",
   "execution_count": 30,
   "id": "8713e281",
   "metadata": {},
   "outputs": [
    {
     "name": "stdout",
     "output_type": "stream",
     "text": [
      "7\n",
      "9\n",
      "11\n",
      "13\n",
      "15\n",
      "17\n",
      "19\n"
     ]
    }
   ],
   "source": [
    "# Exemplo 6 - Ittertools\n",
    "for i in itertools.count(start=7,step=2):\n",
    "    if i>20:\n",
    "        break\n",
    "    print(i)"
   ]
  },
  {
   "cell_type": "code",
   "execution_count": null,
   "id": "ea033b8f",
   "metadata": {},
   "outputs": [],
   "source": []
  }
 ],
 "metadata": {
  "kernelspec": {
   "display_name": "Python 3",
   "language": "python",
   "name": "python3"
  },
  "language_info": {
   "codemirror_mode": {
    "name": "ipython",
    "version": 3
   },
   "file_extension": ".py",
   "mimetype": "text/x-python",
   "name": "python",
   "nbconvert_exporter": "python",
   "pygments_lexer": "ipython3",
   "version": "3.12.4"
  }
 },
 "nbformat": 4,
 "nbformat_minor": 5
}
