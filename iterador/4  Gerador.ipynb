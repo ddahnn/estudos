{
 "cells": [
  {
   "cell_type": "markdown",
   "id": "efcfbe14",
   "metadata": {},
   "source": [
    "Yield\n",
    "- É uma palavra chave para criar geradores. Quando você usa ele  em uma função, voce transforma a função em um gerador, que é um tipo especial de iterador\n",
    "\n",
    "- Return: Quando é usado em uma função, é encerrado e o valor é retornado. Chamadas subsequentes à função iniciam a exxecução novamente do código.\n",
    "\n",
    "- Yield: Pode ser chamado novamente e retomaar a execução do ponto onde foi apusado, permitindo a produção de uma sequencia devalores ao longo do tempo.\n"
   ]
  },
  {
   "cell_type": "code",
   "execution_count": 5,
   "id": "17172afc",
   "metadata": {},
   "outputs": [],
   "source": [
    "def numeros_Impares(n):\n",
    "    for i in range (1, n +1 , 2):\n",
    "        yield i"
   ]
  },
  {
   "cell_type": "code",
   "execution_count": 7,
   "id": "4f098d05",
   "metadata": {},
   "outputs": [
    {
     "name": "stdout",
     "output_type": "stream",
     "text": [
      "1, 3, 5, 7, 9, 11, 13, 15, 17, 19, 21, 23, 25, 27, 29, "
     ]
    }
   ],
   "source": [
    "for numero in numeros_Impares (30):\n",
    "    print(numero, end=\", \")"
   ]
  },
  {
   "cell_type": "code",
   "execution_count": null,
   "id": "04827b6e",
   "metadata": {},
   "outputs": [],
   "source": []
  }
 ],
 "metadata": {
  "kernelspec": {
   "display_name": "Python 3",
   "language": "python",
   "name": "python3"
  },
  "language_info": {
   "codemirror_mode": {
    "name": "ipython",
    "version": 3
   },
   "file_extension": ".py",
   "mimetype": "text/x-python",
   "name": "python",
   "nbconvert_exporter": "python",
   "pygments_lexer": "ipython3",
   "version": "3.12.4"
  }
 },
 "nbformat": 4,
 "nbformat_minor": 5
}
