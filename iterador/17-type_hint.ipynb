{
 "cells": [
  {
   "cell_type": "markdown",
   "id": "b082a793",
   "metadata": {},
   "source": [
    "Type Hint\n",
    "- É uma maneira de iindicar o tipo de variaveis, pârametros e valores de retorno das funções."
   ]
  },
  {
   "cell_type": "code",
   "execution_count": 1,
   "id": "a7462e4a",
   "metadata": {},
   "outputs": [],
   "source": [
    "def soma(a:int,b:int) -> int:\n",
    "    return a + b"
   ]
  },
  {
   "cell_type": "code",
   "execution_count": 4,
   "id": "dc9cda72",
   "metadata": {},
   "outputs": [
    {
     "data": {
      "text/plain": [
       "17"
      ]
     },
     "execution_count": 4,
     "metadata": {},
     "output_type": "execute_result"
    }
   ],
   "source": [
    "soma(8,9)"
   ]
  },
  {
   "cell_type": "code",
   "execution_count": 5,
   "id": "3e3f2d68",
   "metadata": {},
   "outputs": [],
   "source": [
    "from typing import List"
   ]
  },
  {
   "cell_type": "code",
   "execution_count": 7,
   "id": "e498c9e8",
   "metadata": {},
   "outputs": [],
   "source": [
    "class Estudante:\n",
    "    def __init__(self, nome:str , notas:list[float]) -> None:\n",
    "         self.nome = nome\n",
    "         self.notas = notas\n",
    "\n",
    "    def media(self) -> float:\n",
    "         return sum(self.notas) / len(self.notas)\n",
    "    \n",
    "    "
   ]
  },
  {
   "cell_type": "code",
   "execution_count": 8,
   "id": "ed8cea79",
   "metadata": {},
   "outputs": [],
   "source": [
    "def alunos_acima_da_media(alunos:List[Estudante], media_minima: float) -> List[str]:\n",
    "    return [aluno.nome for aluno in alunos if aluno.media() >= media_minima]\n"
   ]
  },
  {
   "cell_type": "code",
   "execution_count": null,
   "id": "1fe2a86d",
   "metadata": {},
   "outputs": [],
   "source": [
    "alunos = [\n",
    "    Estudante(\"Alice\", [7.5, 8.9, 7.9]),\n",
    "    Estudante(\"Bruno\", [6.0, 7.2, 8.1]),\n",
    "    Estudante(\"Carla\", [9.2, 8.7, 9.2]),\n",
    "    Estudante(\"Daniel\", [5.5, 6.3, 7.0]),\n",
    "    Estudante(\"Eduarda\", [8.7, 8.9, 9.1]),\n",
    "    Estudante(\"Felipe\", [3.8, 2.5, 6.0])\n",
    "]"
   ]
  },
  {
   "cell_type": "code",
   "execution_count": 23,
   "id": "f1b142aa",
   "metadata": {},
   "outputs": [
    {
     "data": {
      "text/plain": [
       "[]"
      ]
     },
     "execution_count": 23,
     "metadata": {},
     "output_type": "execute_result"
    }
   ],
   "source": [
    "resultados = alunos_acima_da_media(alunos, 9.0)\n",
    "resultados"
   ]
  },
  {
   "cell_type": "code",
   "execution_count": null,
   "id": "535f1cb4",
   "metadata": {},
   "outputs": [],
   "source": []
  }
 ],
 "metadata": {
  "kernelspec": {
   "display_name": "Python 3",
   "language": "python",
   "name": "python3"
  },
  "language_info": {
   "codemirror_mode": {
    "name": "ipython",
    "version": 3
   },
   "file_extension": ".py",
   "mimetype": "text/x-python",
   "name": "python",
   "nbconvert_exporter": "python",
   "pygments_lexer": "ipython3",
   "version": "3.12.4"
  }
 },
 "nbformat": 4,
 "nbformat_minor": 5
}
