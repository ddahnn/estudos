{
 "cells": [
  {
   "cell_type": "markdown",
   "id": "02cf1cd8",
   "metadata": {},
   "source": [
    "Metaclasse\n",
    "- Cria classe de forma dinâmica\n",
    "- Pode ser util na criação de frameworks onde as clases precisam ter um comportamente especifico"
   ]
  },
  {
   "cell_type": "code",
   "execution_count": 2,
   "id": "c15618f0",
   "metadata": {},
   "outputs": [],
   "source": [
    "class meuMeta(type):\n",
    "    def __new__(cls, nome, bases, dct):\n",
    "        dct[\"Novo_atributo\"] = 'valor adicionado para a meta classe'\n",
    "        return super().__new__(cls, nome, bases, dct)\n",
    "        "
   ]
  },
  {
   "cell_type": "code",
   "execution_count": 3,
   "id": "529551d8",
   "metadata": {},
   "outputs": [],
   "source": [
    "class MinhaClasse(metaclass=meuMeta):\n",
    "    pass"
   ]
  },
  {
   "cell_type": "code",
   "execution_count": 5,
   "id": "b2c4b8de",
   "metadata": {},
   "outputs": [
    {
     "data": {
      "text/plain": [
       "'valor adicionado para a meta classe'"
      ]
     },
     "execution_count": 5,
     "metadata": {},
     "output_type": "execute_result"
    }
   ],
   "source": [
    "obj = MinhaClasse()\n",
    "obj.Novo_atributo"
   ]
  },
  {
   "cell_type": "code",
   "execution_count": 39,
   "id": "570bb903",
   "metadata": {},
   "outputs": [],
   "source": [
    "class ValidadorMeta(type):\n",
    "    def __new__(cls, name, bases, dct):\n",
    "        validacoes = dct.get('validacoes',{})\n",
    "\n",
    "        for attr, tipo in validacoes.items():\n",
    "            if not callable(tipo):\n",
    "                raise TypeError (f\"O tipo de validação para {attr}, deve ser uma função\")\n",
    "        \n",
    "            #Adiciona a funcção de validação\n",
    "\n",
    "            def valida_func(self, value, attr=attr, tipo=tipo):\n",
    "                if not isinstance(value, tipo):\n",
    "                    raise ValueError(f\"{attr} deve ser do tipo {tipo.__name__}\")\n",
    "                self.__dict__[attr] = value\n",
    "            \n",
    "            # Renomeia a função  para evitar problemas de escopo\n",
    "            valida_func.__name__ = f\"set_{attr}\"\n",
    "            dct[f\"set_{attr}\"] = valida_func\n",
    "        return super().__new__(cls, name, bases, dct)"
   ]
  },
  {
   "cell_type": "code",
   "execution_count": 45,
   "id": "0e178f1b",
   "metadata": {},
   "outputs": [],
   "source": [
    "class Usuario(metaclass=ValidadorMeta):\n",
    "    validacoes = {\n",
    "        \"nome\": str,\n",
    "        \"idade\": int\n",
    "    }\n",
    "\n",
    "    def __init__(self, nome, idade):\n",
    "        self.set_nome(nome)\n",
    "        self.set_idade(idade)"
   ]
  },
  {
   "cell_type": "code",
   "execution_count": 46,
   "id": "7b20a8cf",
   "metadata": {},
   "outputs": [
    {
     "name": "stdout",
     "output_type": "stream",
     "text": [
      "Nome: Daniel, idade: 32\n",
      "idade deve ser do tipo int\n"
     ]
    }
   ],
   "source": [
    "try:\n",
    "    user = Usuario(\"Daniel\", 32)\n",
    "    print(f\"Nome: {user.nome}, idade: {user.idade}\")\n",
    "\n",
    "    #tentativa de um valor invallido\n",
    "    user.set_idade( \"trinta e tres\")\n",
    "\n",
    "except ValueError as e:\n",
    "    print(e)"
   ]
  }
 ],
 "metadata": {
  "kernelspec": {
   "display_name": "Python 3",
   "language": "python",
   "name": "python3"
  },
  "language_info": {
   "codemirror_mode": {
    "name": "ipython",
    "version": 3
   },
   "file_extension": ".py",
   "mimetype": "text/x-python",
   "name": "python",
   "nbconvert_exporter": "python",
   "pygments_lexer": "ipython3",
   "version": "3.12.4"
  }
 },
 "nbformat": 4,
 "nbformat_minor": 5
}
