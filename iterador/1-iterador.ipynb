{
 "cells": [
  {
   "cell_type": "code",
   "execution_count": 5,
   "id": "2d18f63c",
   "metadata": {},
   "outputs": [],
   "source": [
    "class Contador:\n",
    "    def __init__(self, limite):\n",
    "        self.limite = limite\n",
    "        self.atual = 1\n",
    "\n",
    "    def __iter__(self):\n",
    "        return self\n",
    "\n",
    "    def __next__(self):\n",
    "        if self.atual > self.limite:\n",
    "            raise StopIteration \n",
    "        else: \n",
    "            valor= self.atual\n",
    "            self.atual +=1\n",
    "        return valor\n"
   ]
  },
  {
   "cell_type": "code",
   "execution_count": null,
   "id": "64fe2ec0",
   "metadata": {},
   "outputs": [],
   "source": [
    "contador = Contador(10)\n",
    "for numero in contador:\n",
    "    print(numero)"
   ]
  }
 ],
 "metadata": {
  "kernelspec": {
   "display_name": "Python 3",
   "language": "python",
   "name": "python3"
  },
  "language_info": {
   "codemirror_mode": {
    "name": "ipython",
    "version": 3
   },
   "file_extension": ".py",
   "mimetype": "text/x-python",
   "name": "python",
   "nbconvert_exporter": "python",
   "pygments_lexer": "ipython3",
   "version": "3.12.4"
  }
 },
 "nbformat": 4,
 "nbformat_minor": 5
}
