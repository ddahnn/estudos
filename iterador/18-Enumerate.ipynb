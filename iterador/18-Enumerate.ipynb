{
 "cells": [
  {
   "cell_type": "markdown",
   "id": "62c7c944",
   "metadata": {},
   "source": [
    "Enumerate\n",
    "- Consegue associaar o valor e o indice de uma lista"
   ]
  },
  {
   "cell_type": "code",
   "execution_count": null,
   "id": "2038633c",
   "metadata": {},
   "outputs": [
    {
     "name": "stdout",
     "output_type": "stream",
     "text": [
      "0 maçã\n",
      "1 banana\n",
      "2 laranja\n"
     ]
    }
   ],
   "source": [
    "frutas = ['maçã', 'banana', 'laranja']\n"
   ]
  },
  {
   "cell_type": "code",
   "execution_count": 4,
   "id": "ef2fddf3",
   "metadata": {},
   "outputs": [
    {
     "name": "stdout",
     "output_type": "stream",
     "text": [
      "0 maçã\n",
      "1 banana\n",
      "2 laranja\n"
     ]
    }
   ],
   "source": [
    "for indice, fruta in enumerate(frutas):\n",
    "    print(indice, fruta)"
   ]
  },
  {
   "cell_type": "code",
   "execution_count": 13,
   "id": "400e26a8",
   "metadata": {},
   "outputs": [],
   "source": [
    "numeros = [10,21,30,43,50,65,70,87,90]"
   ]
  },
  {
   "cell_type": "code",
   "execution_count": 14,
   "id": "36122098",
   "metadata": {},
   "outputs": [
    {
     "data": {
      "text/plain": [
       "{0: 10, 1: 21, 2: 30, 3: 43, 4: 50, 5: 65, 6: 70, 7: 87, 8: 90}"
      ]
     },
     "execution_count": 14,
     "metadata": {},
     "output_type": "execute_result"
    }
   ],
   "source": [
    "indice_valores = {indice : valor for indice, valor in enumerate(numeros)}\n",
    "indice_valores"
   ]
  },
  {
   "cell_type": "code",
   "execution_count": 15,
   "id": "24892c95",
   "metadata": {},
   "outputs": [
    {
     "data": {
      "text/plain": [
       "{0: 10, 2: 30, 4: 50, 6: 70, 8: 90}"
      ]
     },
     "execution_count": 15,
     "metadata": {},
     "output_type": "execute_result"
    }
   ],
   "source": [
    "indices_pares = {indice : valor for indice, valor in enumerate(numeros)if indice % 2 == 0}\n",
    "indices_pares"
   ]
  },
  {
   "cell_type": "code",
   "execution_count": 16,
   "id": "41f4e48e",
   "metadata": {},
   "outputs": [
    {
     "data": {
      "text/plain": [
       "{1: 21, 3: 43, 5: 65, 7: 87}"
      ]
     },
     "execution_count": 16,
     "metadata": {},
     "output_type": "execute_result"
    }
   ],
   "source": [
    "indices_impares = {indice : valor for indice, valor in enumerate(numeros)if indice % 2 != 0}\n",
    "indices_impares"
   ]
  },
  {
   "cell_type": "code",
   "execution_count": null,
   "id": "7b141349",
   "metadata": {},
   "outputs": [],
   "source": []
  }
 ],
 "metadata": {
  "kernelspec": {
   "display_name": "Python 3",
   "language": "python",
   "name": "python3"
  },
  "language_info": {
   "codemirror_mode": {
    "name": "ipython",
    "version": 3
   },
   "file_extension": ".py",
   "mimetype": "text/x-python",
   "name": "python",
   "nbconvert_exporter": "python",
   "pygments_lexer": "ipython3",
   "version": "3.12.4"
  }
 },
 "nbformat": 4,
 "nbformat_minor": 5
}
