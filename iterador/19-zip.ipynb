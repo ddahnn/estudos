{
 "cells": [
  {
   "cell_type": "markdown",
   "id": "7336e60f",
   "metadata": {},
   "source": [
    "Zip\n",
    "- É combinar multiplor iteráveis seja lista oy tupla em um unio iterável"
   ]
  },
  {
   "cell_type": "code",
   "execution_count": 2,
   "id": "be4d8440",
   "metadata": {},
   "outputs": [],
   "source": [
    "nomes = [\"Daniel\", \"Ana\", \"Lucas\", \"Mariana\", \"Pedro\"]\n",
    "idades = [32,18,25,35,15]"
   ]
  },
  {
   "cell_type": "code",
   "execution_count": 3,
   "id": "e6558378",
   "metadata": {},
   "outputs": [
    {
     "name": "stdout",
     "output_type": "stream",
     "text": [
      "Nome: Daniel, Idade: 32\n",
      "Nome: Ana, Idade: 18\n",
      "Nome: Lucas, Idade: 25\n",
      "Nome: Mariana, Idade: 35\n",
      "Nome: Pedro, Idade: 15\n"
     ]
    }
   ],
   "source": [
    "for nome, idade in zip(nomes, idades):\n",
    "    print(f\"Nome: {nome}, Idade: {idade}\")"
   ]
  },
  {
   "cell_type": "code",
   "execution_count": 4,
   "id": "eff13598",
   "metadata": {},
   "outputs": [
    {
     "data": {
      "text/plain": [
       "{'Daniel': 32, 'Ana': 18, 'Lucas': 25, 'Mariana': 35, 'Pedro': 15}"
      ]
     },
     "execution_count": 4,
     "metadata": {},
     "output_type": "execute_result"
    }
   ],
   "source": [
    "pessoas = dict(zip(nomes, idades))\n",
    "pessoas"
   ]
  },
  {
   "cell_type": "code",
   "execution_count": 5,
   "id": "f83fe081",
   "metadata": {},
   "outputs": [
    {
     "data": {
      "text/plain": [
       "{'Daniel': 32, 'Mariana': 35}"
      ]
     },
     "execution_count": 5,
     "metadata": {},
     "output_type": "execute_result"
    }
   ],
   "source": [
    "pessoas_acima_30 = {nome:idade for nome, idade in pessoas.items() if idade > 30}\n",
    "pessoas_acima_30"
   ]
  },
  {
   "cell_type": "code",
   "execution_count": null,
   "id": "f8b29613",
   "metadata": {},
   "outputs": [],
   "source": [
    " "
   ]
  }
 ],
 "metadata": {
  "kernelspec": {
   "display_name": "Python 3",
   "language": "python",
   "name": "python3"
  },
  "language_info": {
   "codemirror_mode": {
    "name": "ipython",
    "version": 3
   },
   "file_extension": ".py",
   "mimetype": "text/x-python",
   "name": "python",
   "nbconvert_exporter": "python",
   "pygments_lexer": "ipython3",
   "version": "3.12.4"
  }
 },
 "nbformat": 4,
 "nbformat_minor": 5
}
