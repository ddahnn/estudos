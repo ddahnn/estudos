{
 "cells": [
  {
   "cell_type": "markdown",
   "id": "8f5a2f47",
   "metadata": {},
   "source": [
    "walrus \n",
    "- esse operado é usado para atribuições de variaveis dentro de expressões.\n",
    "- É usado com o operador \":=\"\n",
    "- Permite que vocêatribua um valor a uma variavel enquanto avalia uma expressão"
   ]
  },
  {
   "cell_type": "code",
   "execution_count": 3,
   "id": "ab66cf92",
   "metadata": {},
   "outputs": [],
   "source": [
    "numeros = [ 5, 12, 3, 18, 7 ,28]"
   ]
  },
  {
   "cell_type": "code",
   "execution_count": 6,
   "id": "082d4494",
   "metadata": {},
   "outputs": [
    {
     "data": {
      "text/plain": [
       "[12, 18, 28]"
      ]
     },
     "execution_count": 6,
     "metadata": {},
     "output_type": "execute_result"
    }
   ],
   "source": [
    "#filtrar e armazenar Números maiores que 10\n",
    "numeros_maiores_que_dez = [n for n in numeros if(maior := n) > 10]\n",
    "numeros_maiores_que_dez"
   ]
  },
  {
   "cell_type": "code",
   "execution_count": 7,
   "id": "bbd9797c",
   "metadata": {},
   "outputs": [],
   "source": [
    "# Processar texto\n",
    "linhas_Processadas = []\n",
    "with open(\"texto.txt\", 'r', encoding=\"utf-8\" ) as arquivo:\n",
    "    for linha in arquivo:\n",
    "        if (linha_limpa := linha.strip()):\n",
    "            linhas_Processadas.append(linha_limpa)"
   ]
  },
  {
   "cell_type": "code",
   "execution_count": 8,
   "id": "fe2b4c2e",
   "metadata": {},
   "outputs": [
    {
     "data": {
      "text/plain": [
       "['Olá Mundo!',\n",
       " 'Este é uma linha de exeplo 1',\n",
       " 'esta é o exemplo 2',\n",
       " 'Os aimais não pensam']"
      ]
     },
     "execution_count": 8,
     "metadata": {},
     "output_type": "execute_result"
    }
   ],
   "source": [
    "linhas_Processadas"
   ]
  },
  {
   "cell_type": "code",
   "execution_count": null,
   "id": "3b08a43f",
   "metadata": {},
   "outputs": [],
   "source": []
  }
 ],
 "metadata": {
  "kernelspec": {
   "display_name": "Python 3",
   "language": "python",
   "name": "python3"
  },
  "language_info": {
   "codemirror_mode": {
    "name": "ipython",
    "version": 3
   },
   "file_extension": ".py",
   "mimetype": "text/x-python",
   "name": "python",
   "nbconvert_exporter": "python",
   "pygments_lexer": "ipython3",
   "version": "3.12.4"
  }
 },
 "nbformat": 4,
 "nbformat_minor": 5
}
