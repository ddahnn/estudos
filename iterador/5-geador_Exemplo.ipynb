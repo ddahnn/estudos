{
 "cells": [
  {
   "cell_type": "code",
   "execution_count": 3,
   "id": "d27e0e71",
   "metadata": {},
   "outputs": [],
   "source": [
    "def linhas_com_numeros_de_palavras(arquivo, numero):\n",
    "    with open (arquivo, \"r\", encoding='utf-8') as file:\n",
    "        for linha in file:\n",
    "            if len(linha.split()) == numero:\n",
    "                yield linha.strip()"
   ]
  },
  {
   "cell_type": "code",
   "execution_count": 8,
   "id": "a51a9315",
   "metadata": {},
   "outputs": [
    {
     "name": "stdout",
     "output_type": "stream",
     "text": [
      "esta é o exemplo 2\n"
     ]
    }
   ],
   "source": [
    "arquivo ='texto.txt'\n",
    "numero_Palavras = 5\n",
    "for linha in linhas_com_numeros_de_palavras(arquivo, numero_Palavras):\n",
    "    print(linha)"
   ]
  }
 ],
 "metadata": {
  "kernelspec": {
   "display_name": "Python 3",
   "language": "python",
   "name": "python3"
  },
  "language_info": {
   "codemirror_mode": {
    "name": "ipython",
    "version": 3
   },
   "file_extension": ".py",
   "mimetype": "text/x-python",
   "name": "python",
   "nbconvert_exporter": "python",
   "pygments_lexer": "ipython3",
   "version": "3.12.4"
  }
 },
 "nbformat": 4,
 "nbformat_minor": 5
}
