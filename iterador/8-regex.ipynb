{
 "cells": [
  {
   "cell_type": "code",
   "execution_count": 7,
   "id": "42f80383",
   "metadata": {},
   "outputs": [],
   "source": [
    "import re"
   ]
  },
  {
   "cell_type": "code",
   "execution_count": null,
   "id": "09adfb95",
   "metadata": {},
   "outputs": [],
   "source": [
    "def explorar_expressao_regular(texto):\n",
    "    padrao= r'\\bPython\\b'\n",
    "    if re.search(padrao, texto):\n",
    "        print(\"O padrão foi encontrado no texto\")\n",
    "    else:\n",
    "        print(\"O padrão não foi encontrado no texto.\")\n",
    "\n",
    "\n",
    "    #identificador de e-mail\n",
    "    padrao_email = r\"[a-zA-Z0-9._%+-]+@[a-zA-Z0-9._%+-]+\\.[a-zA-Z]{2,}\"\n",
    "    emails = re.findall(padrao_email, texto)\n",
    "    print(f\"E-mail encontrado {emails}\")\n",
    "\n",
    "\n",
    "    # Substitui uma palavra por outra\n",
    "    text_subs = re.sub(r\"Python\", \"Java\", texto)\n",
    "    print(text_subs)\n",
    "\n",
    "   #divide uma string com base no padrão\n",
    "    texto_dividido = re.split(r\"\\s+\", texto)\n",
    "    print(texto_dividido)\n",
    "\n",
    "    #expressão regular"
   ]
  },
  {
   "cell_type": "code",
   "execution_count": 28,
   "id": "ac25db59",
   "metadata": {},
   "outputs": [
    {
     "name": "stdout",
     "output_type": "stream",
     "text": [
      "O padrão foi encontrado no texto\n",
      "E-mail encontrado ['exemple@gmail.com']\n",
      "\n",
      "Java é uma linguagem poderosa.\n",
      "Gosto de programar todos os dias.\n",
      "Aprender Java pode abrir muitas portas.\n",
      "exemple@gmail.com\n",
      "\n",
      "['', 'Python', 'é', 'uma', 'linguagem', 'poderosa.', 'Gosto', 'de', 'programar', 'todos', 'os', 'dias.', 'Aprender', 'Python', 'pode', 'abrir', 'muitas', 'portas.', 'exemple@gmail.com', '']\n"
     ]
    }
   ],
   "source": [
    "texto_exemplo = \"\"\"\n",
    "Python é uma linguagem poderosa.\n",
    "Gosto de programar todos os dias.\n",
    "Aprender Python pode abrir muitas portas.\n",
    "exemple@gmail.com\n",
    "\"\"\"\n",
    "explorar_expressao_regular(texto_exemplo)"
   ]
  }
 ],
 "metadata": {
  "kernelspec": {
   "display_name": "Python 3",
   "language": "python",
   "name": "python3"
  },
  "language_info": {
   "codemirror_mode": {
    "name": "ipython",
    "version": 3
   },
   "file_extension": ".py",
   "mimetype": "text/x-python",
   "name": "python",
   "nbconvert_exporter": "python",
   "pygments_lexer": "ipython3",
   "version": "3.12.4"
  }
 },
 "nbformat": 4,
 "nbformat_minor": 5
}
