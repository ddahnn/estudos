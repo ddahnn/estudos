{
 "cells": [
  {
   "cell_type": "code",
   "execution_count": 12,
   "id": "6fffaebc",
   "metadata": {},
   "outputs": [
    {
     "name": "stdout",
     "output_type": "stream",
     "text": [
      "0\n",
      "1\n",
      "4\n",
      "9\n",
      "16\n",
      "25\n",
      "36\n",
      "49\n",
      "64\n",
      "81\n"
     ]
    }
   ],
   "source": [
    "#gerador de expressão\n",
    "quadrados = (x ** 2 for x in range(10))\n",
    "for quadrado in quadrados:\n",
    "    print(quadrado)"
   ]
  },
  {
   "cell_type": "code",
   "execution_count": 13,
   "id": "2c69ca17",
   "metadata": {},
   "outputs": [
    {
     "name": "stdout",
     "output_type": "stream",
     "text": [
      "0\n",
      "1\n",
      "2\n",
      "3\n",
      "4\n",
      "5\n",
      "6\n",
      "7\n",
      "8\n",
      "9\n"
     ]
    }
   ],
   "source": [
    "# 2 - iterador infinito\n",
    "def contador_infinito():\n",
    "    i=0\n",
    "    while True:\n",
    "        yield i\n",
    "        i += 1\n",
    "\n",
    "\n",
    "contaador = contador_infinito()\n",
    "for i in range(10):\n",
    "    print(i)"
   ]
  },
  {
   "cell_type": "code",
   "execution_count": 14,
   "id": "3a0e4401",
   "metadata": {},
   "outputs": [
    {
     "name": "stdout",
     "output_type": "stream",
     "text": [
      "10\n",
      "15\n",
      "30\n"
     ]
    }
   ],
   "source": [
    "# coleta de valores com send()\n",
    "\n",
    "def gerador_soma():\n",
    "    total = 0\n",
    "    while True:\n",
    "        valor = yield total\n",
    "        if valor is not None:\n",
    "            total += valor\n",
    "        \n",
    "soma = gerador_soma()\n",
    "next(soma)  # Inicializa o gerador\n",
    "print(soma.send(10))  \n",
    "print(soma.send(5))  \n",
    "print(soma.send(15))  "
   ]
  },
  {
   "cell_type": "code",
   "execution_count": 17,
   "id": "f7cf9f88",
   "metadata": {},
   "outputs": [
    {
     "name": "stdout",
     "output_type": "stream",
     "text": [
      "Valor recebido: 10\n",
      "Valor invalido\n"
     ]
    },
    {
     "ename": "StopIteration",
     "evalue": "",
     "output_type": "error",
     "traceback": [
      "\u001b[31m---------------------------------------------------------------------------\u001b[39m",
      "\u001b[31mStopIteration\u001b[39m                             Traceback (most recent call last)",
      "\u001b[36mCell\u001b[39m\u001b[36m \u001b[39m\u001b[32mIn[17]\u001b[39m\u001b[32m, line 14\u001b[39m\n\u001b[32m     12\u001b[39m \u001b[38;5;28mnext\u001b[39m(g)  \u001b[38;5;66;03m# Inicializa o gerador\u001b[39;00m\n\u001b[32m     13\u001b[39m g.send(\u001b[32m10\u001b[39m)  \u001b[38;5;66;03m# Envia um valor válido\u001b[39;00m\n\u001b[32m---> \u001b[39m\u001b[32m14\u001b[39m \u001b[43mg\u001b[49m\u001b[43m.\u001b[49m\u001b[43mthrow\u001b[49m\u001b[43m(\u001b[49m\u001b[38;5;167;43;01mValueError\u001b[39;49;00m\u001b[43m)\u001b[49m  \u001b[38;5;66;03m# Lança uma exceção ValueError\u001b[39;00m\n",
      "\u001b[31mStopIteration\u001b[39m: "
     ]
    }
   ],
   "source": [
    "def gerador_execucao():\n",
    "    try:\n",
    "        while True :\n",
    "            valor = yield\n",
    "            print(f\"Valor recebido: {valor}\")\n",
    "    except ValueError:\n",
    "        print(\"Valor invalido\")\n",
    "\n",
    "\n",
    "\n",
    "g = gerador_execucao()\n",
    "next(g)  # Inicializa o gerador\n",
    "g.send(10)  # Envia um valor válido\n",
    "g.throw(ValueError)  # Lança uma exceção ValueError"
   ]
  },
  {
   "cell_type": "code",
   "execution_count": 24,
   "id": "bcadcf31",
   "metadata": {},
   "outputs": [
    {
     "name": "stdout",
     "output_type": "stream",
     "text": [
      "5\n",
      "7\n",
      "9\n",
      "11\n",
      "13\n"
     ]
    }
   ],
   "source": [
    "#5 cascaa geradores..\n",
    "\n",
    "def multiplicar_por_dois(iterable):\n",
    "    for i in iterable:\n",
    "        yield i * 2\n",
    "\n",
    "def adicionar_cinco(iterable):\n",
    "    for i in iterable:\n",
    "        yield i + 5\n",
    "\n",
    "numeros = range(5)\n",
    "resultado =adicionar_cinco(multiplicar_por_dois(numeros))\n",
    "for valor in resultado:\n",
    "    print(valor)\n"
   ]
  }
 ],
 "metadata": {
  "kernelspec": {
   "display_name": "Python 3",
   "language": "python",
   "name": "python3"
  },
  "language_info": {
   "codemirror_mode": {
    "name": "ipython",
    "version": 3
   },
   "file_extension": ".py",
   "mimetype": "text/x-python",
   "name": "python",
   "nbconvert_exporter": "python",
   "pygments_lexer": "ipython3",
   "version": "3.12.4"
  }
 },
 "nbformat": 4,
 "nbformat_minor": 5
}
