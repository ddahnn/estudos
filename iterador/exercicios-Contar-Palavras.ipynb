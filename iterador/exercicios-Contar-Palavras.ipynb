{
 "cells": [
  {
   "cell_type": "code",
   "execution_count": 4,
   "id": "77503d17",
   "metadata": {},
   "outputs": [],
   "source": [
    "import re"
   ]
  },
  {
   "cell_type": "code",
   "execution_count": 7,
   "id": "d626fc6b",
   "metadata": {},
   "outputs": [],
   "source": [
    "def contarPalavra(palavras):\n",
    "    palavra_padrao = r\"\\b\\w+\\b\"\n",
    "    palavras = re.findall(palavra_padrao,palavras)\n",
    "    return palavras"
   ]
  },
  {
   "cell_type": "code",
   "execution_count": 11,
   "id": "0ad32e04",
   "metadata": {},
   "outputs": [
    {
     "name": "stdout",
     "output_type": "stream",
     "text": [
      "19 \n",
      " ['O', 'desenvolvimento', 'de', 'habilidades', 'em', 'programação', 'é', 'fundamental', 'para', 'resolver', 'problemas', 'complexos', 'e', 'criar', 'soluções', 'inovadoras', 'no', 'mundo', 'atual']\n"
     ]
    }
   ],
   "source": [
    "texto = \"O desenvolvimento de habilidades em programação é fundamental para resolver problemas complexos e criar soluções inovadoras no mundo atual.\"\n",
    "numeroPalavras = contarPalavra(texto)\n",
    "print(len(numeroPalavras),\"\\n\",numeroPalavras)"
   ]
  }
 ],
 "metadata": {
  "kernelspec": {
   "display_name": "Python 3",
   "language": "python",
   "name": "python3"
  },
  "language_info": {
   "codemirror_mode": {
    "name": "ipython",
    "version": 3
   },
   "file_extension": ".py",
   "mimetype": "text/x-python",
   "name": "python",
   "nbconvert_exporter": "python",
   "pygments_lexer": "ipython3",
   "version": "3.12.4"
  }
 },
 "nbformat": 4,
 "nbformat_minor": 5
}
