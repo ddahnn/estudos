{
 "cells": [
  {
   "cell_type": "code",
   "execution_count": 1,
   "id": "84a1be1b",
   "metadata": {},
   "outputs": [],
   "source": [
    "import re"
   ]
  },
  {
   "cell_type": "code",
   "execution_count": 7,
   "id": "7a01a215",
   "metadata": {},
   "outputs": [],
   "source": [
    "def validar(senha):\n",
    "    padrão_senha = r\"^(?=.*[a-z])(?=.*[A-Z](?=.*\\d)[A-Za-z\\d]){8,}$\"\n",
    "    return bool (re.match(padrão_senha,senha))"
   ]
  },
  {
   "cell_type": "code",
   "execution_count": 8,
   "id": "cda9c1a7",
   "metadata": {},
   "outputs": [
    {
     "name": "stdout",
     "output_type": "stream",
     "text": [
      " senha Senha123 é válida? False\n",
      " senha senha123 é válida? False\n",
      " senha SENHA123 é válida? False\n",
      " senha Senha é válida? False\n",
      " senha Senha1234 é válida? False\n",
      " senha 12345678 é válida? False\n",
      " senha Senha@2024 é válida? False\n",
      " senha Senha2024 é válida? False\n",
      " senha senha2024 é válida? False\n",
      " senha SENHA2024 é válida? False\n"
     ]
    }
   ],
   "source": [
    "senhas = [\n",
    "    \"Senha123\",      \n",
    "    \"senha123\",     \n",
    "    \"SENHA123\",      \n",
    "    \"Senha\",         \n",
    "    \"Senha1234\",   \n",
    "    \"12345678\",      \n",
    "    \"Senha@2024\",    \n",
    "    \"Senha2024\",     \n",
    "    \"senha2024\", \n",
    "    \"SENHA2024\",     \n",
    "]\n",
    "for senha in senhas:\n",
    "    print(f' senha {senha} é válida? {validar(senha)}')"
   ]
  },
  {
   "cell_type": "code",
   "execution_count": null,
   "id": "a3cd7d69",
   "metadata": {},
   "outputs": [],
   "source": []
  }
 ],
 "metadata": {
  "kernelspec": {
   "display_name": "Python 3",
   "language": "python",
   "name": "python3"
  },
  "language_info": {
   "codemirror_mode": {
    "name": "ipython",
    "version": 3
   },
   "file_extension": ".py",
   "mimetype": "text/x-python",
   "name": "python",
   "nbconvert_exporter": "python",
   "pygments_lexer": "ipython3",
   "version": "3.12.4"
  }
 },
 "nbformat": 4,
 "nbformat_minor": 5
}
