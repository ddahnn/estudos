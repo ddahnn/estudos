{
 "cells": [
  {
   "cell_type": "code",
   "execution_count": 5,
   "id": "8f81c92a",
   "metadata": {},
   "outputs": [],
   "source": [
    "class NomeComLetra:\n",
    "    def __init__(self, nome, letra):\n",
    "        self.nome = nome\n",
    "        self.letra =letra\n",
    "        self.index = 0\n",
    "\n",
    "    def __iter__(self):\n",
    "        return self\n",
    "    \n",
    "    def __next__(self):\n",
    "        while self.index < len(self.nome):\n",
    "            nome = self.nome[self.index]\n",
    "            self.index += 1\n",
    "            if nome.startswith(self.letra):\n",
    "                return nome\n",
    "        raise StopIteration"
   ]
  },
  {
   "cell_type": "code",
   "execution_count": 11,
   "id": "a6aef743",
   "metadata": {},
   "outputs": [],
   "source": [
    "lista_Nome = ['Ana', 'Maria', 'João', 'Pedro', 'Lucas', 'Luana', 'Luan', 'Lia', 'Lia', 'Lia', 'Daniel', 'Daniela', 'Danilo', 'Daniele', 'Daniella', 'Daniella', 'Daniella', 'Daniella', 'Daniella', 'Daniella', \"Xisperito\"]\n",
    "letra = 'm'\n",
    "\n",
    "iterador_nomes = NomeComLetra(lista_Nome, letra)\n",
    "\n",
    "for nome in iterador_nomes:\n",
    "    print(nome)"
   ]
  }
 ],
 "metadata": {
  "kernelspec": {
   "display_name": "Python 3",
   "language": "python",
   "name": "python3"
  },
  "language_info": {
   "codemirror_mode": {
    "name": "ipython",
    "version": 3
   },
   "file_extension": ".py",
   "mimetype": "text/x-python",
   "name": "python",
   "nbconvert_exporter": "python",
   "pygments_lexer": "ipython3",
   "version": "3.12.4"
  }
 },
 "nbformat": 4,
 "nbformat_minor": 5
}
