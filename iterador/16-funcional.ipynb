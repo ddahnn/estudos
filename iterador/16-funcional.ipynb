{
 "cells": [
  {
   "cell_type": "markdown",
   "id": "e0ffda59",
   "metadata": {},
   "source": [
    "Programação Funcional\n",
    "- Trata a computação como avaliação de funções matematicas e evita estado e dados mutáveis"
   ]
  },
  {
   "cell_type": "code",
   "execution_count": 1,
   "id": "8f01f0e3",
   "metadata": {},
   "outputs": [],
   "source": [
    "#Função de alta ordem - é uma funçãoi que recebe outra função como argumento\n",
    "def quadrado(x):\n",
    "    return x*x\n",
    "\n",
    "def aplica_fun(funcao, lista):\n",
    "    return [funcao(x) for x in lista]"
   ]
  },
  {
   "cell_type": "code",
   "execution_count": 2,
   "id": "dc193a6b",
   "metadata": {},
   "outputs": [
    {
     "data": {
      "text/plain": [
       "[1, 4, 9, 16, 25, 36, 49, 100]"
      ]
     },
     "execution_count": 2,
     "metadata": {},
     "output_type": "execute_result"
    }
   ],
   "source": [
    "numeros = [1, 2 , 3, 4, 5, 6, 7,10]\n",
    "resultado = aplica_fun(quadrado, numeros)\n",
    "resultado"
   ]
  },
  {
   "cell_type": "code",
   "execution_count": 4,
   "id": "5b67d81f",
   "metadata": {},
   "outputs": [],
   "source": [
    "#dado exemplo\n",
    "\n",
    "usuarios = [\n",
    "    {\"nome\": \"Alice\", \"idade\": 30},\n",
    "    {\"nome\": \"Bob\", \"idade\": 25},\n",
    "    {\"nome\": \"Carlos\", \"idade\": 28},\n",
    "    {\"nome\": \"Diana\", \"idade\": 22},\n",
    "    {\"nome\": \"Eduardo\", \"idade\": 35}\n",
    "]"
   ]
  },
  {
   "cell_type": "code",
   "execution_count": null,
   "id": "1ef0d6de",
   "metadata": {},
   "outputs": [],
   "source": [
    "def extrair_nomes(lista):\n",
    "    return list(map(lambda u: u['nome'], usuarios))\n",
    "\n",
    "def filrar_maior_que(usuarios, idade):\n",
    "    return list(filter(lambda u: u['idade']> idade, usuarios))\n",
    "\n",
    "def calcular_media_idade(usuarios):\n",
    "    if not usuarios:\n",
    "        return 0\n",
    "    total_idade = sum(map(lambda u: u['idade'], usuarios))\n",
    "    return total_idade / len(usuarios)"
   ]
  },
  {
   "cell_type": "code",
   "execution_count": 6,
   "id": "b7e4149f",
   "metadata": {},
   "outputs": [
    {
     "data": {
      "text/plain": [
       "[{'nome': 'Alice', 'idade': 30},\n",
       " {'nome': 'Carlos', 'idade': 28},\n",
       " {'nome': 'Eduardo', 'idade': 35}]"
      ]
     },
     "execution_count": 6,
     "metadata": {},
     "output_type": "execute_result"
    }
   ],
   "source": [
    "usuario_maior_que_27 = filrar_maior_que(usuarios, 27)\n",
    "usuario_maior_que_27"
   ]
  },
  {
   "cell_type": "code",
   "execution_count": 8,
   "id": "2e038e20",
   "metadata": {},
   "outputs": [
    {
     "data": {
      "text/plain": [
       "['Alice', 'Bob', 'Carlos', 'Diana', 'Eduardo']"
      ]
     },
     "execution_count": 8,
     "metadata": {},
     "output_type": "execute_result"
    }
   ],
   "source": [
    "nomes_maiores_que_27 = extrair_nomes(usuario_maior_que_27)\n",
    "nomes_maiores_que_27"
   ]
  },
  {
   "cell_type": "code",
   "execution_count": 10,
   "id": "a4e2a91a",
   "metadata": {},
   "outputs": [],
   "source": [
    "from functools import lru_cache"
   ]
  },
  {
   "cell_type": "code",
   "execution_count": 13,
   "id": "5ce635cb",
   "metadata": {},
   "outputs": [],
   "source": [
    "@lru_cache(maxsize=None)\n",
    "def fibonacci(n):\n",
    "    if n <= 1:\n",
    "        return n\n",
    "    return fibonacci(n - 1) + fibonacci(n - 2)"
   ]
  },
  {
   "cell_type": "code",
   "execution_count": 14,
   "id": "fc205e8a",
   "metadata": {},
   "outputs": [
    {
     "name": "stdout",
     "output_type": "stream",
     "text": [
      "fibonacci(0) = 0\n",
      "fibonacci(1) = 1\n",
      "fibonacci(2) = 1\n",
      "fibonacci(3) = 2\n",
      "fibonacci(4) = 3\n",
      "fibonacci(5) = 5\n",
      "fibonacci(6) = 8\n",
      "fibonacci(7) = 13\n",
      "fibonacci(8) = 21\n",
      "fibonacci(9) = 34\n"
     ]
    }
   ],
   "source": [
    "for i in range (10):\n",
    "    print(f\"fibonacci({i}) = {fibonacci(i)}\")"
   ]
  }
 ],
 "metadata": {
  "kernelspec": {
   "display_name": "Python 3",
   "language": "python",
   "name": "python3"
  },
  "language_info": {
   "codemirror_mode": {
    "name": "ipython",
    "version": 3
   },
   "file_extension": ".py",
   "mimetype": "text/x-python",
   "name": "python",
   "nbconvert_exporter": "python",
   "pygments_lexer": "ipython3",
   "version": "3.12.4"
  }
 },
 "nbformat": 4,
 "nbformat_minor": 5
}
